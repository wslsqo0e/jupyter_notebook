{
 "cells": [
  {
   "cell_type": "code",
   "execution_count": 18,
   "metadata": {},
   "outputs": [
    {
     "name": "stdout",
     "output_type": "stream",
     "text": [
      "[   6    6    6 ... 2000 2000 2000]\n",
      "[   3    3    3 ... 1000 1000 1000]\n"
     ]
    },
    {
     "data": {
      "image/png": "[encoded data removed]",
      "text/plain": [
       "<matplotlib.figure.Figure at 0x1151b5550>"
      ]
     },
     "metadata": {},
     "output_type": "display_data"
    }
   ],
   "source": [
    "import numpy as np\n",
    "import random\n",
    "\n",
    "step = np.array(((0,1),(0,-1),(1,0),(-1,0)))\n",
    "\n",
    "def meettime1(Y, cap=2000):\n",
    "    X = np.array((0,0))\n",
    "    Y = np.array(Y)\n",
    "    for i in range(cap):\n",
    "        if np.array_equal(X,Y):\n",
    "            return i\n",
    "        Y += random.choice(step)\n",
    "    else:\n",
    "        return cap\n",
    "    \n",
    "def meettime2(Y, cap=1000):\n",
    "    X = np.array((0,0))\n",
    "    Y = np.array(Y)\n",
    "    for i in range(cap):\n",
    "        if np.array_equal(X,Y):\n",
    "            return i\n",
    "        X += random.choice(step)\n",
    "        Y += random.choice(step)\n",
    "    else:\n",
    "        return cap\n",
    "    \n",
    "samplenum = 3000\n",
    "\n",
    "T1 = np.array([meettime1((2,4)) for i in range(samplenum)])\n",
    "T1.sort()\n",
    "print(T1)\n",
    "\n",
    "T2 = np.array([meettime2((2,4)) for i in range(samplenum)])\n",
    "T2.sort()\n",
    "print(T2)\n",
    "\n",
    "import matplotlib.pyplot as plt\n",
    "fig, ax = plt.subplots()\n",
    "ax.plot(np.arange(samplenum)/samplenum, T1)\n",
    "ax.plot(np.arange(samplenum)/samplenum, T1/2)\n",
    "ax.plot(np.arange(samplenum)/samplenum, T2)\n",
    "plt.show()"
   ]
  },
  {
   "cell_type": "code",
   "execution_count": 22,
   "metadata": {},
   "outputs": [
    {
     "name": "stdout",
     "output_type": "stream",
     "text": [
      "[(13, 1), (15, 1), (17, 1), (21, 2), (23, 5), (27, 7), (29, 2), (31, 5), (33, 6), (35, 6), (37, 8), (39, 2), (41, 8), (43, 9), (45, 8), (47, 11), (49, 16), (51, 12), (53, 10), (55, 11), (57, 12), (59, 9), (61, 12), (63, 12), (65, 8), (67, 6), (69, 17), (71, 11), (73, 8), (75, 8), (77, 7), (79, 7), (81, 10), (83, 13), (85, 15), (87, 12), (89, 16), (91, 9), (93, 8), (95, 17), (97, 4), (99, 8), (101, 12), (103, 11), (105, 7), (107, 9), (109, 7), (111, 9), (113, 16), (115, 12), (117, 12), (119, 7), (121, 21), (123, 13), (125, 8), (127, 8), (129, 8), (131, 9), (133, 6), (135, 4), (137, 8), (139, 7), (141, 9), (143, 7), (145, 14), (147, 10), (149, 7), (151, 9), (153, 9), (155, 7), (157, 16), (159, 6), (161, 14), (163, 5), (165, 13), (167, 6), (169, 4), (171, 7), (173, 11), (175, 8), (177, 8), (179, 10), (181, 10), (183, 4), (185, 10), (187, 5), (189, 8), (191, 7), (193, 11), (195, 8), (197, 6), (199, 7), (201, 14), (203, 10), (205, 7), (207, 5), (209, 8), (211, 5), (213, 17), (215, 3), (217, 9), (219, 6), (221, 6), (223, 8), (225, 5), (227, 11), (229, 6), (231, 3), (233, 3), (235, 5), (237, 4), (239, 7), (241, 4), (243, 6), (245, 9), (247, 5), (249, 3), (251, 6), (253, 6), (255, 9), (257, 6), (259, 3), (261, 10), (263, 11), (265, 4), (267, 10), (269, 4), (271, 7), (273, 4), (275, 6), (277, 5), (279, 6), (281, 4), (283, 9), (285, 8), (287, 6), (289, 2), (291, 3), (293, 5), (295, 3), (297, 9), (299, 8), (301, 2), (303, 5), (305, 4), (307, 5), (309, 5), (311, 3), (313, 3), (315, 6), (317, 5), (319, 5), (321, 7), (323, 6), (325, 3), (327, 3), (329, 3), (331, 5), (333, 4), (335, 7), (337, 5), (339, 10), (341, 3), (343, 2), (345, 7), (347, 4), (349, 3), (351, 8), (353, 6), (355, 2), (357, 3), (359, 3), (361, 3), (365, 7), (367, 2), (369, 2), (371, 6), (373, 3), (375, 4), (377, 6), (379, 2), (381, 3), (383, 8), (385, 3), (387, 6), (389, 4), (391, 4), (393, 2), (395, 7), (397, 6), (399, 7), (401, 2), (403, 1), (407, 6), (409, 4), (411, 5), (413, 9), (415, 4), (419, 2), (421, 5), (425, 3), (427, 5), (429, 1), (431, 2), (433, 3), (435, 4), (437, 5), (439, 2), (441, 3), (443, 3), (445, 4), (447, 3), (449, 5), (451, 7), (453, 1), (455, 1), (457, 1), (459, 3), (461, 3), (463, 8), (465, 4), (467, 2), (469, 2), (471, 6), (473, 3), (475, 5), (477, 1), (479, 2), (481, 4), (483, 2), (485, 2), (487, 3), (489, 5), (491, 4), (493, 1), (495, 4), (497, 3), (499, 3), (501, 5), (503, 3), (505, 4), (507, 3), (509, 3), (511, 1), (513, 3), (515, 4), (517, 4), (519, 2), (521, 3), (523, 4), (525, 2), (527, 2), (529, 4), (531, 2), (533, 4), (535, 7), (537, 3), (539, 1), (541, 5), (543, 3), (545, 2), (547, 1), (549, 3), (551, 3), (553, 3), (555, 4), (557, 1), (561, 3), (565, 4), (567, 4), (569, 3), (571, 3), (573, 5), (575, 4), (577, 3), (579, 3), (581, 2), (583, 4), (587, 2), (589, 2), (591, 1), (593, 3), (595, 4), (597, 4), (599, 2), (601, 2), (603, 5), (605, 1), (607, 4), (609, 7), (611, 1), (613, 1), (615, 1), (617, 9), (621, 4), (623, 5), (625, 4), (627, 2), (629, 4), (631, 1), (633, 3), (635, 2), (637, 1), (639, 6), (645, 1), (647, 1), (649, 2), (651, 5), (653, 2), (655, 3), (657, 4), (659, 2), (661, 5), (663, 1), (665, 3), (667, 2), (669, 1), (671, 4), (673, 3), (677, 1), (679, 3), (683, 1), (685, 4), (689, 3), (693, 1), (695, 3), (697, 2), (699, 1), (701, 6), (703, 2), (705, 1), (707, 1), (711, 2), (715, 1), (717, 1), (719, 2), (721, 3), (723, 1), (725, 2), (727, 1), (729, 5), (731, 4), (733, 3), (735, 1), (737, 1), (741, 2), (743, 2), (745, 2), (747, 5), (749, 3), (751, 1), (753, 1), (755, 5), (757, 3), (759, 1), (761, 1), (763, 2), (765, 2), (767, 1), (769, 3), (771, 1), (773, 2), (775, 2), (779, 1), (781, 2), (783, 3), (785, 2), (787, 1), (789, 5), (791, 3), (793, 3), (795, 2), (799, 4), (801, 3), (803, 1), (805, 1), (807, 5), (809, 5), (811, 3), (815, 3), (817, 2), (819, 4), (821, 1), (823, 3), (827, 1), (829, 5), (833, 3), (835, 1), (837, 1), (839, 3), (841, 2), (843, 1), (845, 1), (847, 1), (849, 2), (851, 2), (853, 3), (855, 1), (859, 3), (861, 3), (863, 5), (865, 5), (867, 1), (869, 1), (871, 4), (873, 4), (875, 3), (877, 2), (879, 2), (881, 1), (883, 2), (885, 2), (887, 1), (889, 1), (891, 4), (895, 4), (897, 1), (899, 2), (901, 4), (905, 3), (907, 2), (909, 2), (911, 1), (913, 3), (915, 1), (917, 3), (919, 4), (921, 1), (923, 3), (925, 2), (927, 1), (929, 3), (933, 4), (935, 4), (937, 1), (939, 1), (941, 1), (943, 1), (945, 1), (947, 2), (953, 1), (957, 1), (959, 5), (961, 2), (963, 1), (965, 1), (967, 3), (969, 2), (971, 2), (973, 1), (975, 1), (977, 4), (979, 1), (981, 1), (985, 2), (991, 2), (995, 3), (997, 2), (999, 1), (1000, 7923)]\n",
      "[(8, 4), (9, 1), (10, 3), (11, 5), (12, 2), (13, 4), (14, 6), (15, 4), (16, 9), (17, 8), (18, 6), (19, 10), (20, 9), (21, 8), (22, 16), (23, 8), (24, 13), (25, 15), (26, 12), (27, 20), (28, 14), (29, 8), (30, 11), (31, 7), (32, 9), (33, 16), (34, 9), (35, 10), (36, 6), (37, 10), (38, 9), (39, 8), (40, 6), (41, 15), (42, 11), (43, 14), (44, 14), (45, 10), (46, 7), (47, 8), (48, 11), (49, 11), (50, 11), (51, 5), (52, 10), (53, 12), (54, 10), (55, 13), (56, 12), (57, 12), (58, 13), (59, 11), (60, 8), (61, 7), (62, 12), (63, 7), (64, 11), (65, 8), (66, 12), (67, 15), (68, 11), (69, 6), (70, 11), (71, 11), (72, 10), (73, 5), (74, 7), (75, 7), (76, 6), (77, 4), (78, 5), (79, 5), (80, 10), (81, 9), (82, 6), (83, 10), (84, 11), (85, 6), (86, 8), (87, 6), (88, 5), (89, 6), (90, 9), (91, 4), (92, 9), (93, 4), (94, 7), (95, 7), (96, 4), (97, 8), (98, 11), (99, 3), (100, 4), (101, 6), (102, 5), (103, 5), (104, 11), (105, 4), (106, 7), (107, 6), (108, 8), (109, 5), (110, 8), (111, 6), (112, 11), (113, 5), (114, 5), (115, 9), (116, 3), (117, 4), (118, 7), (119, 3), (120, 5), (121, 5), (122, 6), (123, 6), (124, 3), (125, 11), (126, 5), (127, 8), (128, 6), (129, 6), (130, 6), (131, 7), (132, 4), (133, 4), (134, 7), (135, 2), (136, 3), (137, 4), (138, 4), (139, 5), (140, 3), (141, 9), (142, 4), (143, 3), (144, 3), (145, 5), (146, 6), (147, 4), (148, 5), (149, 3), (150, 4), (151, 5), (152, 4), (153, 4), (154, 3), (155, 3), (156, 2), (157, 7), (158, 6), (159, 5), (160, 7), (161, 7), (162, 3), (163, 5), (164, 3), (165, 4), (166, 1), (167, 6), (168, 2), (169, 3), (170, 4), (171, 3), (172, 6), (173, 9), (174, 1), (175, 4), (176, 1), (178, 2), (179, 2), (180, 4), (181, 4), (182, 3), (183, 1), (184, 6), (185, 1), (186, 7), (187, 7), (188, 5), (189, 5), (190, 2), (191, 1), (192, 1), (193, 4), (194, 4), (195, 3), (196, 3), (197, 3), (198, 5), (199, 3), (200, 7), (201, 4), (202, 5), (203, 3), (204, 3), (205, 6), (206, 3), (207, 4), (208, 4), (209, 5), (210, 5), (211, 4), (212, 9), (213, 3), (214, 5), (215, 1), (216, 2), (217, 2), (218, 6), (219, 3), (220, 3), (221, 4), (222, 3), (223, 4), (224, 5), (225, 8), (226, 3), (227, 4), (228, 5), (229, 3), (230, 2), (231, 2), (232, 2), (233, 2), (234, 5), (235, 5), (236, 5), (237, 3), (238, 7), (239, 2), (240, 1), (241, 3), (242, 4), (243, 4), (244, 5), (245, 6), (246, 1), (247, 4), (248, 8), (249, 4), (250, 8), (251, 2), (252, 4), (253, 7), (254, 2), (255, 2), (256, 5), (258, 3), (259, 3), (260, 2), (261, 3), (262, 3), (263, 4), (264, 4), (265, 4), (266, 5), (267, 3), (268, 2), (269, 5), (270, 2), (271, 3), (272, 5), (273, 5), (274, 2), (275, 4), (277, 3), (278, 5), (279, 1), (281, 1), (282, 3), (283, 3), (284, 3), (285, 3), (286, 3), (287, 2), (289, 2), (290, 3), (291, 4), (293, 2), (294, 1), (295, 3), (296, 3), (297, 2), (298, 3), (299, 4), (300, 4), (301, 4), (302, 4), (303, 2), (304, 1), (305, 2), (306, 3), (307, 4), (308, 4), (309, 1), (310, 6), (311, 3), (312, 2), (313, 5), (314, 2), (315, 3), (316, 3), (317, 7), (318, 3), (319, 4), (320, 3), (321, 1), (322, 3), (323, 1), (324, 4), (325, 1), (326, 2), (328, 3), (329, 1), (330, 3), (331, 3), (332, 2), (334, 1), (335, 1), (336, 5), (337, 3), (338, 2), (339, 3), (340, 2), (341, 3), (342, 3), (343, 1), (344, 3), (345, 2), (346, 5), (347, 2), (348, 3), (349, 4), (350, 1), (351, 2), (352, 4), (353, 3), (354, 2), (355, 2), (356, 1), (358, 1), (359, 3), (360, 5), (361, 1), (362, 7), (364, 1), (365, 1), (367, 1), (368, 1), (369, 1), (370, 3), (371, 1), (372, 1), (373, 2), (374, 2), (375, 1), (376, 3), (377, 2), (378, 1), (379, 3), (380, 1), (381, 1), (382, 4), (383, 3), (384, 2), (386, 1), (387, 2), (388, 4), (389, 4), (391, 3), (392, 1), (394, 2), (395, 2), (396, 2), (398, 2), (399, 2), (400, 4), (401, 3), (402, 1), (403, 1), (404, 1), (405, 2), (406, 2), (407, 2), (408, 2), (409, 2), (410, 2), (411, 1), (412, 2), (413, 2), (414, 2), (416, 1), (417, 3), (419, 2), (420, 1), (421, 5), (423, 3), (424, 2), (425, 3), (426, 1), (427, 2), (428, 6), (429, 2), (430, 3), (431, 1), (432, 3), (433, 1), (434, 1), (435, 2), (436, 1), (438, 5), (440, 3), (441, 2), (443, 2), (444, 1), (445, 1), (447, 2), (448, 3), (451, 1), (452, 1), (454, 2), (455, 1), (456, 2), (458, 1), (459, 2), (460, 2), (461, 3), (462, 2), (464, 3), (468, 5), (469, 2), (470, 2), (471, 1), (472, 1), (474, 3), (475, 1), (476, 2), (477, 1), (478, 4), (479, 1), (480, 2), (482, 1), (483, 3), (484, 1), (485, 1), (488, 2), (489, 1), (490, 3), (491, 1), (492, 2), (493, 2), (495, 3), (496, 1), (497, 3), (498, 3), (500, 3), (502, 2), (503, 1), (504, 1), (507, 1), (508, 2), (511, 2), (512, 1), (513, 1), (516, 1), (518, 3), (519, 2), (520, 5), (521, 1), (522, 1), (523, 2), (524, 1), (525, 2), (526, 3), (527, 1), (528, 3), (529, 1), (530, 3), (532, 1), (534, 1), (535, 1), (537, 1), (540, 1), (541, 1), (542, 2), (543, 1), (544, 1), (545, 1), (546, 2), (547, 2), (548, 2), (550, 1), (551, 1), (552, 3), (553, 1), (554, 3), (555, 1), (556, 1), (557, 1), (558, 1), (559, 1), (560, 3), (561, 4), (562, 3), (563, 2), (564, 4), (565, 1), (566, 1), (569, 1), (570, 1), (571, 1), (572, 1), (573, 2), (576, 1), (578, 1), (579, 1), (580, 1), (581, 1), (582, 1), (583, 2), (585, 1), (586, 1), (589, 1), (590, 4), (592, 1), (593, 4), (595, 1), (596, 1), (598, 2), (599, 1), (600, 2), (601, 1), (604, 1), (605, 3), (606, 1), (607, 4), (608, 1), (609, 2), (611, 3), (612, 2), (613, 1), (615, 1), (616, 1), (617, 3), (618, 1), (619, 4), (620, 2), (621, 7), (622, 1), (623, 1), (624, 4), (625, 2), (626, 1), (628, 1), (629, 3), (630, 2), (634, 1), (637, 2), (640, 1), (641, 2), (642, 1), (644, 1), (645, 1), (646, 1), (647, 1), (649, 1), (650, 2), (651, 2), (652, 1), (653, 1), (656, 2), (658, 1), (659, 1), (661, 3), (662, 1), (664, 1), (665, 2), (666, 2), (667, 3), (669, 2), (671, 3), (672, 2), (674, 2), (675, 1), (676, 3), (677, 1), (678, 1), (679, 1), (680, 1), (684, 1), (685, 2), (688, 2), (689, 1), (693, 1), (694, 3), (696, 2), (701, 1), (702, 1), (704, 1), (705, 1), (709, 2), (710, 2), (713, 1), (715, 2), (716, 1), (717, 1), (718, 1), (719, 4), (722, 2), (723, 1), (724, 1), (725, 3), (727, 1), (730, 1), (732, 1), (733, 1), (734, 1), (736, 1), (739, 1), (740, 1), (741, 1), (743, 1), (744, 1), (746, 3), (747, 1), (748, 3), (752, 1), (756, 1), (757, 2), (762, 1), (763, 4), (764, 1), (765, 2), (767, 1), (769, 2), (770, 1), (773, 1), (774, 1), (776, 1), (777, 2), (779, 1), (780, 1), (781, 1), (783, 1), (784, 1), (786, 1), (787, 3), (789, 1), (791, 1), (793, 2), (794, 1), (795, 1), (796, 1), (798, 2), (799, 1), (800, 1), (802, 1), (806, 2), (807, 1), (810, 2), (811, 2), (812, 2), (814, 1), (815, 2), (816, 2), (817, 1), (818, 1), (820, 1), (822, 2), (823, 1), (824, 1), (825, 2), (828, 1), (831, 1), (832, 3), (834, 1), (838, 2), (839, 2), (841, 1), (843, 1), (845, 1), (846, 1), (847, 2), (849, 1), (850, 1), (851, 2), (853, 1), (854, 1), (856, 1), (857, 1), (858, 1), (860, 2), (861, 1), (863, 1), (869, 2), (870, 1), (873, 1), (875, 1), (877, 1), (881, 1), (882, 2), (884, 1), (886, 2), (889, 2), (891, 1), (893, 1), (894, 1), (895, 3), (896, 1), (898, 1), (900, 2), (901, 1), (902, 1), (903, 2), (904, 2), (905, 1), (907, 1), (915, 1), (916, 1), (920, 1), (921, 2), (923, 1), (924, 1), (930, 1), (940, 4), (942, 1), (947, 2), (948, 1), (950, 1), (951, 1), (954, 2), (956, 2), (957, 1), (958, 1), (959, 1), (960, 1), (963, 1), (964, 1), (965, 1), (968, 1), (970, 1), (971, 2), (975, 2), (976, 2), (981, 1), (982, 1), (984, 3), (985, 1), (987, 1), (990, 1), (992, 2), (995, 1), (996, 1), (1000, 7533)]\n"
     ]
    }
   ],
   "source": [
    "import sys\n",
    "import random\n",
    "import numpy as np\n",
    "def random_walk1(loc1, loc2):\n",
    "    \"\"\"\n",
    "    男方不动，女方随意游走\n",
    "    \"\"\"\n",
    "    next_list = [np.array([0,1]), np.array([0,-1]), np.array([1,0]), np.array([-1,0])]\n",
    "    for i in range(1000):\n",
    "        next_step = random.choice(next_list)\n",
    "        loc1 += next_step\n",
    "        if (loc1 == loc2).all():\n",
    "            return i\n",
    "    return 1000\n",
    "\n",
    "def random_walk2(loc1, loc2):\n",
    "    \"\"\"\n",
    "    男方随意游走，女方随意游走\n",
    "    \"\"\"\n",
    "    next_list = [np.array([0,1]), np.array([0,-1]), np.array([1,0]), np.array([-1,0])]\n",
    "    for i in range(1000):\n",
    "        next_step = random.choice(next_list)\n",
    "        loc1 += next_step\n",
    "        next_step = random.choice(next_list)\n",
    "        loc2 += next_step\n",
    "        if (loc1 == loc2).all():\n",
    "            return i\n",
    "    return 1000\n",
    "\n",
    "meet_statistic1 = {}\n",
    "meet_statistic2 = {}\n",
    "list_statistic1 = []\n",
    "list_statistic2 = []\n",
    "for i in range(10000):\n",
    "    steps_1 = random_walk1(np.array([0,10]), np.array([0,0]))\n",
    "    steps_2 = random_walk2(np.array([0,10]), np.array([0,0]))\n",
    "    list_statistic1.append(steps_1)\n",
    "    list_statistic2.append(steps_2)\n",
    "    meet_statistic1[steps_1] = meet_statistic1.get(steps_1, 0) + 1\n",
    "    meet_statistic2[steps_2] = meet_statistic2.get(steps_2, 0) + 1\n",
    "\n",
    "# 绘制统计图像\n",
    "list_statistic1 = sorted(meet_statistic1.items())\n",
    "statis1_x, statis1_y = [i[0] for i in list_statistic1[:-1]], [i[1] for i in list_statistic1[:-1]]\n",
    "list_statistic2 = sorted(meet_statistic2.items())\n",
    "statis2_x, statis2_y = [i[0] for i in list_statistic2[:-1]], [i[1] for i in list_statistic2[:-1]]\n",
    "\n",
    "print(list_statistic1)\n",
    "print(list_statistic2)\n",
    "\n",
    "#list_statistic1.sort()\n",
    "#list_statistic2.sort()\n",
    "\n",
    "#list_x = [i for i in range(10000)]\n",
    "\n",
    "\n",
    "#import matplotlib.pyplot as plt\n",
    "#plt.plot(list_x, list_statistic1)\n",
    "#plt.plot(list_x, list_statistic2)\n",
    "#plt.show()\n"
   ]
  },
  {
   "cell_type": "code",
   "execution_count": null,
   "metadata": {
    "collapsed": true
   },
   "outputs": [],
   "source": []
  }
 ],
 "metadata": {
  "kernelspec": {
   "display_name": "Python 3",
   "language": "python",
   "name": "python3"
  },
  "language_info": {
   "codemirror_mode": {
    "name": "ipython",
    "version": 3
   },
   "file_extension": ".py",
   "mimetype": "text/x-python",
   "name": "python",
   "nbconvert_exporter": "python",
   "pygments_lexer": "ipython3",
   "version": "3.6.3"
  }
 },
 "nbformat": 4,
 "nbformat_minor": 2
}
